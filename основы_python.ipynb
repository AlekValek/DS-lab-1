{
 "cells": [
  {
   "cell_type": "markdown",
   "metadata": {
    "id": "M-DGa20PaHnu"
   },
   "source": [
    "#Задача 1\n",
    "Написать функцию на вход которой подается строка, состоящая из латинских букв.\n",
    "Функция должна вернуть количество гласных букв (a, e, i, o, u) в этой строке. Написать тесты для кода"
   ]
  },
  {
   "cell_type": "code",
   "execution_count": 15,
   "metadata": {
    "id": "XvX8X_JJ6PCb"
   },
   "outputs": [
    {
     "name": "stdout",
     "output_type": "stream",
     "text": [
      "asdjieorpkfnci 5 True\n",
      " 0 True\n",
      "ddddd 0 True\n",
      "eeeee 5 True\n",
      "eeeee999 5 True\n",
      "99999 Error True\n"
     ]
    }
   ],
   "source": [
    "def getCountOfVowels(line):\n",
    "    array = [\"a\", \"e\", \"i\", \"o\", \"u\"]\n",
    "    count = 0\n",
    "    if isinstance(line, str):\n",
    "        for i in line:\n",
    "            if i in array:\n",
    "                count+=1\n",
    "        return count\n",
    "    return (\"Error\")\n",
    "\n",
    "def test(line, answer):\n",
    "    print(line, getCount(line), getCount(line) == answer)\n",
    "    \n",
    "test(\"asdjieorpkfnci\", 5)\n",
    "test(\"\", 0)\n",
    "test(\"ddddd\", 0)\n",
    "test(\"eeeee\", 5)\n",
    "test(\"eeeee999\", 5)\n",
    "test(99999, \"Error\")"
   ]
  },
  {
   "cell_type": "markdown",
   "metadata": {
    "id": "t2ClV_Y0bbr6"
   },
   "source": [
    "# Задача 2\n",
    "Написать функцию на вход, которой подается строка. Функция должна вернуть true, если\n",
    "каждый символ в строке встречается только 1 раз, иначе должна вернуть false. Написать тесты для кода"
   ]
  },
  {
   "cell_type": "code",
   "execution_count": 22,
   "metadata": {
    "id": "FppbECao6VIz"
   },
   "outputs": [
    {
     "name": "stdout",
     "output_type": "stream",
     "text": [
      " False False\n",
      "  True True\n",
      "   False True\n",
      "qwert True True\n",
      "123456 True True\n",
      "qwertqwert False True\n",
      "123456123456 False True\n",
      "123456123456qwerty False True\n"
     ]
    }
   ],
   "source": [
    "def isAllCharUnique(line):\n",
    "    result = 1\n",
    "    for i in line:\n",
    "        result *= (line.count(i) == 1) * 1\n",
    "    return True * result\n",
    "\n",
    "def empty_line():\n",
    "    line = \"\"\n",
    "    answer = False\n",
    "    print (line, answer, isAllCharUnique(line) == answer)\n",
    "    \n",
    "def line_of_spase():\n",
    "    line = \" \"\n",
    "    answer = True\n",
    "    print (line, answer, isAllCharUnique(line) == answer)\n",
    "    \n",
    "def line_of_spaces():\n",
    "    line = \"  \"\n",
    "    answer = False\n",
    "    print (line, answer, isAllCharUnique(line) == answer)\n",
    "\n",
    "def correct_line_of_letters():\n",
    "    line = \"qwert\"\n",
    "    answer = True\n",
    "    print (line, answer, isAllCharUnique(line) == answer)\n",
    "    \n",
    "def correct_line_of_numbers():\n",
    "    line = \"123456\"\n",
    "    answer = True\n",
    "    print (line, answer, isAllCharUnique(line) == answer)\n",
    "\n",
    "def incorrect_line_of_letters():\n",
    "    line = \"qwertqwert\"\n",
    "    answer = False\n",
    "    print (line, answer, isAllCharUnique(line) == answer)\n",
    "    \n",
    "def incorrect_line_of_numbers():\n",
    "    line = \"123456123456\"\n",
    "    answer = False\n",
    "    print (line, answer, isAllCharUnique(line) == answer)\n",
    "    \n",
    "def incorrect_line_of_numbers_and_letters():\n",
    "    line = \"123456123456qwerty\"\n",
    "    answer = False\n",
    "    print (line, answer, isAllCharUnique(line) == answer)\n",
    "    \n",
    "empty_line()\n",
    "line_of_spase()\n",
    "line_of_spaces()\n",
    "correct_line_of_letters()\n",
    "correct_line_of_numbers()\n",
    "incorrect_line_of_letters()\n",
    "incorrect_line_of_numbers()\n",
    "incorrect_line_of_numbers_and_letters()\n"
   ]
  },
  {
   "cell_type": "markdown",
   "metadata": {
    "id": "udRiIK1cdt6E"
   },
   "source": [
    "# Задача 3\n",
    "Написать функцию, которая принимает положительное число и возвращает количество\n",
    "бит равных 1 в этом числе. Написать тесты для кода"
   ]
  },
  {
   "cell_type": "code",
   "execution_count": 25,
   "metadata": {
    "id": "6tkfDJRz6dp_"
   },
   "outputs": [
    {
     "name": "stdout",
     "output_type": "stream",
     "text": [
      "12 2 True\n",
      "0 0 True\n",
      "-12 Error True\n"
     ]
    },
    {
     "ename": "TypeError",
     "evalue": "'>=' not supported between instances of 'str' and 'int'",
     "output_type": "error",
     "traceback": [
      "\u001b[1;31m---------------------------------------------------------------------------\u001b[0m",
      "\u001b[1;31mTypeError\u001b[0m                                 Traceback (most recent call last)",
      "Cell \u001b[1;32mIn[25], line 30\u001b[0m\n\u001b[0;32m     28\u001b[0m number_of_zero()\n\u001b[0;32m     29\u001b[0m number_less_than_zero()\n\u001b[1;32m---> 30\u001b[0m \u001b[43mline_of_string\u001b[49m\u001b[43m(\u001b[49m\u001b[43m)\u001b[49m\n",
      "Cell \u001b[1;32mIn[25], line 25\u001b[0m, in \u001b[0;36mline_of_string\u001b[1;34m()\u001b[0m\n\u001b[0;32m     23\u001b[0m number \u001b[38;5;241m=\u001b[39m \u001b[38;5;124m\"\u001b[39m\u001b[38;5;124m-12\u001b[39m\u001b[38;5;124m\"\u001b[39m\n\u001b[0;32m     24\u001b[0m answer \u001b[38;5;241m=\u001b[39m \u001b[38;5;124m\"\u001b[39m\u001b[38;5;124mError\u001b[39m\u001b[38;5;124m\"\u001b[39m\n\u001b[1;32m---> 25\u001b[0m \u001b[38;5;28mprint\u001b[39m (number, \u001b[43mcountOfUnits\u001b[49m\u001b[43m(\u001b[49m\u001b[43mnumber\u001b[49m\u001b[43m)\u001b[49m, countOfUnits(number) \u001b[38;5;241m==\u001b[39m answer)\n",
      "Cell \u001b[1;32mIn[25], line 2\u001b[0m, in \u001b[0;36mcountOfUnits\u001b[1;34m(number)\u001b[0m\n\u001b[0;32m      1\u001b[0m \u001b[38;5;28;01mdef\u001b[39;00m \u001b[38;5;21mcountOfUnits\u001b[39m(number):\n\u001b[1;32m----> 2\u001b[0m     \u001b[38;5;28;01mif\u001b[39;00m \u001b[43mnumber\u001b[49m\u001b[43m \u001b[49m\u001b[38;5;241;43m>\u001b[39;49m\u001b[38;5;241;43m=\u001b[39;49m\u001b[43m \u001b[49m\u001b[38;5;241;43m0\u001b[39;49m \u001b[38;5;129;01mand\u001b[39;00m \u001b[38;5;28misinstance\u001b[39m(number, \u001b[38;5;28mint\u001b[39m):\n\u001b[0;32m      3\u001b[0m         line \u001b[38;5;241m=\u001b[39m \u001b[38;5;28mstr\u001b[39m(\u001b[38;5;28mbin\u001b[39m(number))[\u001b[38;5;241m1\u001b[39m:]\n\u001b[0;32m      4\u001b[0m         \u001b[38;5;28;01mreturn\u001b[39;00m line\u001b[38;5;241m.\u001b[39mcount(\u001b[38;5;124m\"\u001b[39m\u001b[38;5;124m1\u001b[39m\u001b[38;5;124m\"\u001b[39m)\n",
      "\u001b[1;31mTypeError\u001b[0m: '>=' not supported between instances of 'str' and 'int'"
     ]
    }
   ],
   "source": [
    "def countOfUnits(number):\n",
    "    if number >= 0 and isinstance(number, int):\n",
    "        line = str(bin(number))[1:]\n",
    "        return line.count(\"1\")\n",
    "    return (\"Error\")\n",
    "\n",
    "def correct_number():\n",
    "    number = 12\n",
    "    answer = 2\n",
    "    print (number, countOfUnits(number), countOfUnits(number) == answer)\n",
    "\n",
    "def number_of_zero():\n",
    "    number = 0\n",
    "    answer = 0\n",
    "    print (number, countOfUnits(number), countOfUnits(number) == answer)\n",
    "\n",
    "def number_less_than_zero():\n",
    "    number = -12\n",
    "    answer = \"Error\"\n",
    "    print (number, countOfUnits(number), countOfUnits(number) == answer)\n",
    "\n",
    "def line_of_string():\n",
    "    number = \"-12\"\n",
    "    answer = \"Error\"\n",
    "    print (number, countOfUnits(number), countOfUnits(number) == answer)\n",
    "    \n",
    "correct_number()\n",
    "number_of_zero()\n",
    "number_less_than_zero()\n",
    "line_of_string()"
   ]
  },
  {
   "cell_type": "markdown",
   "metadata": {
    "id": "26dDUz-Ae17N"
   },
   "source": [
    "# Задача 4\n",
    "Написать функцию, которая принимает положительное число. Функция должна вернуть то,\n",
    "сколько раз необходимо перемножать цифры числа или результат перемножения, чтобы\n",
    "получилось число состоящее из одной цифры.\n",
    "Например, для входного числа:\n",
    "· 39 функция должна вернуть 3, так как 3*9=27 => 2*7=14 => 1*4=4\n",
    "· 4 функция должна вернуть 0, так как число уже состоит из одной цифры\n",
    "· 999 функция должна вернуть 4, так как 9*9*9=729 => 7*2*9=126 => 1*2*6=12 =>\n",
    "1*2=2. Написать тесты для кода"
   ]
  },
  {
   "cell_type": "code",
   "execution_count": null,
   "metadata": {
    "id": "BH1A_Mgi6i4G"
   },
   "outputs": [],
   "source": [
    "def magic(n):\n",
    "    # Your code goes here\n",
    "    pass"
   ]
  },
  {
   "cell_type": "markdown",
   "metadata": {
    "id": "0nS-kIa8g8vd"
   },
   "source": [
    "# Задача 5\n",
    "Написать функцию, которая принимает два целочисленных вектора одинаковой длины и\n",
    "возвращает среднеквадратическое отклонение двух векторов. Написать тесты для кода"
   ]
  },
  {
   "cell_type": "code",
   "execution_count": null,
   "metadata": {
    "id": "8iphx4LM6xbx"
   },
   "outputs": [],
   "source": [
    "def mse(pred, true):\n",
    "    # Your code goes here\n",
    "    pass"
   ]
  },
  {
   "cell_type": "markdown",
   "metadata": {
    "id": "vpIPKL439zkw"
   },
   "source": [
    "# Задача 6\n",
    "Написать функцию, принимающая целое положительное число. Функция должна вернуть\n",
    "строку вида “(n1**p1)(n2**p2)…(nk**pk)” представляющая разложение числа на простые\n",
    "множители (если pi == 1, то выводить только ni).\n",
    "Например, для числа 86240 функция должна вернуть “(2**5)(5)(7**2)(11)”. Написать тесты для кода"
   ]
  },
  {
   "cell_type": "code",
   "execution_count": null,
   "metadata": {
    "id": "pFebmcZk94Jw"
   },
   "outputs": [],
   "source": [
    "# Your code goes here"
   ]
  },
  {
   "cell_type": "markdown",
   "metadata": {
    "id": "ps2s0BudX7A2"
   },
   "source": [
    "# Задача 7\n",
    "Написать функцию, принимающая целое число n, задающее количество кубиков. Функция\n",
    "должна определить, можно ли из данного кол-ва кубиков построить пирамиду, то есть\n",
    "можно ли представить число n как 1^2+2^2+3^2+…+k^2. Если можно, то функция должна\n",
    "вернуть k, иначе строку “It is impossible”. Написать тесты для кода"
   ]
  },
  {
   "cell_type": "code",
   "execution_count": null,
   "metadata": {
    "id": "3YPjEXxhX_YT"
   },
   "outputs": [],
   "source": [
    "def pyramid(number):\n",
    "    # Your code goes here\n",
    "    pass"
   ]
  },
  {
   "cell_type": "markdown",
   "metadata": {
    "id": "KeKgmIdAQMEJ"
   },
   "source": [
    "# Задача 8\n",
    "Функция принимает на вход положительное число и определяет является ли оно сбалансированным, т.е. сумма цифр до средних равна сумме цифр после. Средними в случае нечетного числа цифр считать одну цифру, в случае четного - две средних. Написать тесты для кода"
   ]
  },
  {
   "cell_type": "code",
   "execution_count": null,
   "metadata": {
    "id": "gMAAqtqlQrZt"
   },
   "outputs": [],
   "source": [
    "# Your code goes here"
   ]
  }
 ],
 "metadata": {
  "colab": {
   "provenance": []
  },
  "kernelspec": {
   "display_name": "Python 3 (ipykernel)",
   "language": "python",
   "name": "python3"
  },
  "language_info": {
   "codemirror_mode": {
    "name": "ipython",
    "version": 3
   },
   "file_extension": ".py",
   "mimetype": "text/x-python",
   "name": "python",
   "nbconvert_exporter": "python",
   "pygments_lexer": "ipython3",
   "version": "3.10.9"
  }
 },
 "nbformat": 4,
 "nbformat_minor": 1
}
